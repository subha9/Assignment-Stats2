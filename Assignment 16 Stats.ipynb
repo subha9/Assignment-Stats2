{
 "cells": [
  {
   "cell_type": "code",
   "execution_count": 1,
   "metadata": {},
   "outputs": [
    {
     "data": {
      "text/plain": [
       "3.4264958230778575e-06"
      ]
     },
     "execution_count": 1,
     "metadata": {},
     "output_type": "execute_result"
    }
   ],
   "source": [
    "#Problem Statement 1:\n",
    "#A test is conducted which is consisting of 20 MCQs (multiple choices questions) \n",
    "#with every MCQ having its four options out of which only one is correct. \n",
    "#Determine the probability that a person undertaking that test has answered exactly 5 questions wrong.\n",
    "\n",
    "# No of MCQ(multiple choices questions) = 20\n",
    "# Exact No of Wrong Answer              = 5\n",
    "# No of Correct Answers                 = 20-5=15\n",
    "# Probability of giving right Answer    = 1/4     # as MCQ has 4 options 1 right and 3 wrong \n",
    "# Probability of giving wrong Answer    = 1-1/4 = 3/4     # as MCQ has 4 options 1 right and 3 other\n",
    "\n",
    "# So, P (exactly 5 out of 20 answers incorrect) = C (20, 5) * (1/4)^15 * (3/4)^5\n",
    "\n",
    "def factorial(n):\n",
    "    if n == 0:\n",
    "        return 1\n",
    "    else:\n",
    "        return n * factorial(n-1)\n",
    "\n",
    "# Lets calculate C (20, 5) * (1/4)^15 * (3/4)^5\n",
    "\n",
    "P = (factorial(20)/(factorial(15)*factorial(5))) * ((1/4)**15)*((3/4)**5)  # 5 out of twenty\n",
    "P\n",
    "\n",
    "# Hence probability is = 0.0000034 (approximately)"
   ]
  },
  {
   "cell_type": "code",
   "execution_count": 2,
   "metadata": {},
   "outputs": [
    {
     "data": {
      "text/plain": [
       "1.3937965749081678e-08"
      ]
     },
     "execution_count": 2,
     "metadata": {},
     "output_type": "execute_result"
    }
   ],
   "source": [
    "#A die marked A to E is rolled 50 times. Find the probability of getting a “D” exactly 5 times.\n",
    "#In [2]:\n",
    "# No of times die rolled out                   = 50\n",
    "# No of outcomes(A,B,C,D,E)                    = 5\n",
    "# P (Success) -Probability of D at one roll    = 1/5\n",
    "# P (Failure)                                  = 1-1/5 = 4/5\n",
    "\n",
    "P = ((1/5)**5)*((4/5)**45)\n",
    "P"
   ]
  },
  {
   "cell_type": "code",
   "execution_count": 3,
   "metadata": {},
   "outputs": [
    {
     "data": {
      "text/plain": [
       "1.0"
      ]
     },
     "execution_count": 3,
     "metadata": {},
     "output_type": "execute_result"
    }
   ],
   "source": [
    "#Problem Statement 3:\n",
    "#Two balls are drawn at random in succession without replacement from an urn containing 4 red balls and 6 black balls.\n",
    "#Find the probabilities of all the possible outcomes.\n",
    "#In [4]:\n",
    "# In the first draw we have 10 balls\n",
    "# In the second draw we have 9 balls\n",
    "\n",
    "# There will be only 4 possible outcomes mentioned below along with probability\n",
    "\n",
    "# Probability of drawing Red balls only   p(RR)               -->     (4/10)(3/9) = 2/15\n",
    "# Probability of drawing 1 Red and 1 Black ball p(RB)         -->     (4/10)(6/9) = 4/15\n",
    "# Probability of drawing 1 Black and 1 Red ball p(BR)         -->     (6/10)(4/9) = 4/15 \n",
    "# Probability of drawing Black balls only   p(BB)             -->     (6/10)(5/9) = 1/3\n",
    "\n",
    "# Since we have done all the possible probability distribution, summation of all the probability must be 1\n",
    "\n",
    "2/15+4/15+4/15+1/3"
   ]
  },
  {
   "cell_type": "code",
   "execution_count": null,
   "metadata": {},
   "outputs": [],
   "source": []
  }
 ],
 "metadata": {
  "kernelspec": {
   "display_name": "Python 3",
   "language": "python",
   "name": "python3"
  },
  "language_info": {
   "codemirror_mode": {
    "name": "ipython",
    "version": 3
   },
   "file_extension": ".py",
   "mimetype": "text/x-python",
   "name": "python",
   "nbconvert_exporter": "python",
   "pygments_lexer": "ipython3",
   "version": "3.6.8"
  }
 },
 "nbformat": 4,
 "nbformat_minor": 2
}
